{
  "nbformat": 4,
  "nbformat_minor": 0,
  "metadata": {
    "colab": {
      "name": "Operation on Dataframe.ipynb",
      "provenance": [],
      "collapsed_sections": []
    },
    "kernelspec": {
      "name": "python3",
      "display_name": "Python 3"
    },
    "language_info": {
      "name": "python"
    }
  },
  "cells": [
    {
      "cell_type": "markdown",
      "source": [
        "Problem Statement 1: Samantha has created a dataset named 'top50spotify.csv' of her top 50\n",
        "songs from spotify.\n",
        "\n",
        "Tasks to be performed:\n",
        "1. Import the dataset as a DataFrame and drop the first column.\n",
        "2. Save it as 'top50.csv'.\n",
        "3. Find the average Energy and Length of first 10 songs.\n",
        "4. Find the total length of songs, group by genre from top to bottom.\n",
        "5. Print the artist name with the most number of tracks in one genre. (Hint: Group by artist\n",
        "name and genre)\n",
        "6. Print the data of the tracks created by the artist from the previous question."
      ],
      "metadata": {
        "id": "mvatCEWyGj24"
      }
    },
    {
      "cell_type": "code",
      "execution_count": null,
      "metadata": {
        "id": "icy7WdkKev7f"
      },
      "outputs": [],
      "source": [
        "import pandas as pd\n",
        "import numpy as np"
      ]
    },
    {
      "cell_type": "code",
      "source": [
        "df = pd.read_csv(\"top50spotify.csv\")\n",
        "df.shape"
      ],
      "metadata": {
        "id": "y5CLCSulfWd2",
        "colab": {
          "base_uri": "https://localhost:8080/"
        },
        "outputId": "38bd017c-0162-4885-a7f3-558ba2971568"
      },
      "execution_count": null,
      "outputs": [
        {
          "output_type": "execute_result",
          "data": {
            "text/plain": [
              "(50, 14)"
            ]
          },
          "metadata": {},
          "execution_count": 2
        }
      ]
    },
    {
      "cell_type": "code",
      "source": [
        "df.drop(['SerialNo.'], axis=1, inplace=True)\n",
        "df.shape"
      ],
      "metadata": {
        "id": "3wL6kZF-gIR0",
        "colab": {
          "base_uri": "https://localhost:8080/"
        },
        "outputId": "2504eafa-b50e-4296-8b8d-aad69bbe3f3c"
      },
      "execution_count": null,
      "outputs": [
        {
          "output_type": "execute_result",
          "data": {
            "text/plain": [
              "(50, 13)"
            ]
          },
          "metadata": {},
          "execution_count": 3
        }
      ]
    },
    {
      "cell_type": "code",
      "source": [
        "df.to_csv('top50.csv')"
      ],
      "metadata": {
        "id": "YjGr0XqTgLwx"
      },
      "execution_count": null,
      "outputs": []
    },
    {
      "cell_type": "code",
      "source": [
        "df['Energy'].head(10).mean()"
      ],
      "metadata": {
        "colab": {
          "base_uri": "https://localhost:8080/"
        },
        "id": "ilDQO02wgzDZ",
        "outputId": "e696fa15-65eb-45d8-b633-98f81045bdb9"
      },
      "execution_count": null,
      "outputs": [
        {
          "output_type": "execute_result",
          "data": {
            "text/plain": [
              "65.1"
            ]
          },
          "metadata": {},
          "execution_count": 5
        }
      ]
    },
    {
      "cell_type": "code",
      "source": [
        "df['Length.'].head(10).mean()"
      ],
      "metadata": {
        "colab": {
          "base_uri": "https://localhost:8080/"
        },
        "id": "NPw_LerZhPkQ",
        "outputId": "fa3b56f8-9a57-477b-b246-567bd5604eb6"
      },
      "execution_count": null,
      "outputs": [
        {
          "output_type": "execute_result",
          "data": {
            "text/plain": [
              "195.6"
            ]
          },
          "metadata": {},
          "execution_count": 6
        }
      ]
    },
    {
      "cell_type": "code",
      "source": [
        "df.groupby('Genre')['Length.'].sum()"
      ],
      "metadata": {
        "colab": {
          "base_uri": "https://localhost:8080/"
        },
        "id": "aOjsY2GdHrcf",
        "outputId": "568e9654-d20e-4736-b24a-6b63b5c7f54c"
      },
      "execution_count": null,
      "outputs": [
        {
          "output_type": "execute_result",
          "data": {
            "text/plain": [
              "Genre\n",
              "atl hip hop          200\n",
              "australian pop       210\n",
              "big room             164\n",
              "boy band             181\n",
              "brostep              396\n",
              "canadian hip hop     579\n",
              "canadian pop         382\n",
              "country rap          272\n",
              "dance pop           1621\n",
              "dfw rap              333\n",
              "edm                  656\n",
              "electropop           389\n",
              "escape room          173\n",
              "latin               1126\n",
              "panamanian pop       514\n",
              "pop                 1368\n",
              "pop house            153\n",
              "r&b en espanol       162\n",
              "reggaeton            427\n",
              "reggaeton flow       611\n",
              "trap music           131\n",
              "Name: Length., dtype: int64"
            ]
          },
          "metadata": {},
          "execution_count": 7
        }
      ]
    },
    {
      "cell_type": "code",
      "source": [
        "df.groupby('Genre')['Length.'].sum().sort_values(ascending = False)"
      ],
      "metadata": {
        "id": "kxVFw8ClheqX",
        "colab": {
          "base_uri": "https://localhost:8080/"
        },
        "outputId": "3812b6e7-c759-492f-c4ff-0d3c93ddfb24"
      },
      "execution_count": null,
      "outputs": [
        {
          "output_type": "execute_result",
          "data": {
            "text/plain": [
              "Genre\n",
              "dance pop           1621\n",
              "pop                 1368\n",
              "latin               1126\n",
              "edm                  656\n",
              "reggaeton flow       611\n",
              "canadian hip hop     579\n",
              "panamanian pop       514\n",
              "reggaeton            427\n",
              "brostep              396\n",
              "electropop           389\n",
              "canadian pop         382\n",
              "dfw rap              333\n",
              "country rap          272\n",
              "australian pop       210\n",
              "atl hip hop          200\n",
              "boy band             181\n",
              "escape room          173\n",
              "big room             164\n",
              "r&b en espanol       162\n",
              "pop house            153\n",
              "trap music           131\n",
              "Name: Length., dtype: int64"
            ]
          },
          "metadata": {},
          "execution_count": 8
        }
      ]
    },
    {
      "cell_type": "code",
      "source": [
        "df.groupby(['Genre','Artist.Name'])['Track.Name'].count().sort_values(ascending = False).head(1)"
      ],
      "metadata": {
        "colab": {
          "base_uri": "https://localhost:8080/"
        },
        "id": "gTUepFRJK0KV",
        "outputId": "729ec2b9-c91b-4afc-9b96-e9573ea37b0b"
      },
      "execution_count": null,
      "outputs": [
        {
          "output_type": "execute_result",
          "data": {
            "text/plain": [
              "Genre  Artist.Name\n",
              "pop    Ed Sheeran     4\n",
              "Name: Track.Name, dtype: int64"
            ]
          },
          "metadata": {},
          "execution_count": 9
        }
      ]
    },
    {
      "cell_type": "code",
      "source": [
        "df[df['Artist.Name']=='Ed Sheeran']\n"
      ],
      "metadata": {
        "colab": {
          "base_uri": "https://localhost:8080/",
          "height": 430
        },
        "id": "xHcq2-z0LGyE",
        "outputId": "443eb093-5086-4db8-fc40-3a09c9c1e109"
      },
      "execution_count": null,
      "outputs": [
        {
          "output_type": "execute_result",
          "data": {
            "text/plain": [
              "                                       Track.Name Artist.Name Genre  \\\n",
              "3                 Beautiful People (feat. Khalid)  Ed Sheeran   pop   \n",
              "5               I Don't Care (with Justin Bieber)  Ed Sheeran   pop   \n",
              "37                 Antisocial (with Travis Scott)  Ed Sheeran   pop   \n",
              "49  Cross Me (feat. Chance the Rapper & PnB Rock)  Ed Sheeran   pop   \n",
              "\n",
              "    Beats.Per.Minute  Energy  Danceability  Loudness..dB..  Liveness  \\\n",
              "3                 93      65            64              -8         8   \n",
              "5                102      68            80              -5         9   \n",
              "37               152      82            72              -5        36   \n",
              "49                95      79            75              -6         7   \n",
              "\n",
              "    Valence.  Length.  Acousticness..  Speechiness.  Popularity  \n",
              "3         55      198              12            19          86  \n",
              "5         84      220               9             4          84  \n",
              "37        91      162              13             5          87  \n",
              "49        61      206              21            12          82  "
            ],
            "text/html": [
              "\n",
              "  <div id=\"df-b9929936-d922-40a0-a45b-5b58236d8400\">\n",
              "    <div class=\"colab-df-container\">\n",
              "      <div>\n",
              "<style scoped>\n",
              "    .dataframe tbody tr th:only-of-type {\n",
              "        vertical-align: middle;\n",
              "    }\n",
              "\n",
              "    .dataframe tbody tr th {\n",
              "        vertical-align: top;\n",
              "    }\n",
              "\n",
              "    .dataframe thead th {\n",
              "        text-align: right;\n",
              "    }\n",
              "</style>\n",
              "<table border=\"1\" class=\"dataframe\">\n",
              "  <thead>\n",
              "    <tr style=\"text-align: right;\">\n",
              "      <th></th>\n",
              "      <th>Track.Name</th>\n",
              "      <th>Artist.Name</th>\n",
              "      <th>Genre</th>\n",
              "      <th>Beats.Per.Minute</th>\n",
              "      <th>Energy</th>\n",
              "      <th>Danceability</th>\n",
              "      <th>Loudness..dB..</th>\n",
              "      <th>Liveness</th>\n",
              "      <th>Valence.</th>\n",
              "      <th>Length.</th>\n",
              "      <th>Acousticness..</th>\n",
              "      <th>Speechiness.</th>\n",
              "      <th>Popularity</th>\n",
              "    </tr>\n",
              "  </thead>\n",
              "  <tbody>\n",
              "    <tr>\n",
              "      <th>3</th>\n",
              "      <td>Beautiful People (feat. Khalid)</td>\n",
              "      <td>Ed Sheeran</td>\n",
              "      <td>pop</td>\n",
              "      <td>93</td>\n",
              "      <td>65</td>\n",
              "      <td>64</td>\n",
              "      <td>-8</td>\n",
              "      <td>8</td>\n",
              "      <td>55</td>\n",
              "      <td>198</td>\n",
              "      <td>12</td>\n",
              "      <td>19</td>\n",
              "      <td>86</td>\n",
              "    </tr>\n",
              "    <tr>\n",
              "      <th>5</th>\n",
              "      <td>I Don't Care (with Justin Bieber)</td>\n",
              "      <td>Ed Sheeran</td>\n",
              "      <td>pop</td>\n",
              "      <td>102</td>\n",
              "      <td>68</td>\n",
              "      <td>80</td>\n",
              "      <td>-5</td>\n",
              "      <td>9</td>\n",
              "      <td>84</td>\n",
              "      <td>220</td>\n",
              "      <td>9</td>\n",
              "      <td>4</td>\n",
              "      <td>84</td>\n",
              "    </tr>\n",
              "    <tr>\n",
              "      <th>37</th>\n",
              "      <td>Antisocial (with Travis Scott)</td>\n",
              "      <td>Ed Sheeran</td>\n",
              "      <td>pop</td>\n",
              "      <td>152</td>\n",
              "      <td>82</td>\n",
              "      <td>72</td>\n",
              "      <td>-5</td>\n",
              "      <td>36</td>\n",
              "      <td>91</td>\n",
              "      <td>162</td>\n",
              "      <td>13</td>\n",
              "      <td>5</td>\n",
              "      <td>87</td>\n",
              "    </tr>\n",
              "    <tr>\n",
              "      <th>49</th>\n",
              "      <td>Cross Me (feat. Chance the Rapper &amp; PnB Rock)</td>\n",
              "      <td>Ed Sheeran</td>\n",
              "      <td>pop</td>\n",
              "      <td>95</td>\n",
              "      <td>79</td>\n",
              "      <td>75</td>\n",
              "      <td>-6</td>\n",
              "      <td>7</td>\n",
              "      <td>61</td>\n",
              "      <td>206</td>\n",
              "      <td>21</td>\n",
              "      <td>12</td>\n",
              "      <td>82</td>\n",
              "    </tr>\n",
              "  </tbody>\n",
              "</table>\n",
              "</div>\n",
              "      <button class=\"colab-df-convert\" onclick=\"convertToInteractive('df-b9929936-d922-40a0-a45b-5b58236d8400')\"\n",
              "              title=\"Convert this dataframe to an interactive table.\"\n",
              "              style=\"display:none;\">\n",
              "        \n",
              "  <svg xmlns=\"http://www.w3.org/2000/svg\" height=\"24px\"viewBox=\"0 0 24 24\"\n",
              "       width=\"24px\">\n",
              "    <path d=\"M0 0h24v24H0V0z\" fill=\"none\"/>\n",
              "    <path d=\"M18.56 5.44l.94 2.06.94-2.06 2.06-.94-2.06-.94-.94-2.06-.94 2.06-2.06.94zm-11 1L8.5 8.5l.94-2.06 2.06-.94-2.06-.94L8.5 2.5l-.94 2.06-2.06.94zm10 10l.94 2.06.94-2.06 2.06-.94-2.06-.94-.94-2.06-.94 2.06-2.06.94z\"/><path d=\"M17.41 7.96l-1.37-1.37c-.4-.4-.92-.59-1.43-.59-.52 0-1.04.2-1.43.59L10.3 9.45l-7.72 7.72c-.78.78-.78 2.05 0 2.83L4 21.41c.39.39.9.59 1.41.59.51 0 1.02-.2 1.41-.59l7.78-7.78 2.81-2.81c.8-.78.8-2.07 0-2.86zM5.41 20L4 18.59l7.72-7.72 1.47 1.35L5.41 20z\"/>\n",
              "  </svg>\n",
              "      </button>\n",
              "      \n",
              "  <style>\n",
              "    .colab-df-container {\n",
              "      display:flex;\n",
              "      flex-wrap:wrap;\n",
              "      gap: 12px;\n",
              "    }\n",
              "\n",
              "    .colab-df-convert {\n",
              "      background-color: #E8F0FE;\n",
              "      border: none;\n",
              "      border-radius: 50%;\n",
              "      cursor: pointer;\n",
              "      display: none;\n",
              "      fill: #1967D2;\n",
              "      height: 32px;\n",
              "      padding: 0 0 0 0;\n",
              "      width: 32px;\n",
              "    }\n",
              "\n",
              "    .colab-df-convert:hover {\n",
              "      background-color: #E2EBFA;\n",
              "      box-shadow: 0px 1px 2px rgba(60, 64, 67, 0.3), 0px 1px 3px 1px rgba(60, 64, 67, 0.15);\n",
              "      fill: #174EA6;\n",
              "    }\n",
              "\n",
              "    [theme=dark] .colab-df-convert {\n",
              "      background-color: #3B4455;\n",
              "      fill: #D2E3FC;\n",
              "    }\n",
              "\n",
              "    [theme=dark] .colab-df-convert:hover {\n",
              "      background-color: #434B5C;\n",
              "      box-shadow: 0px 1px 3px 1px rgba(0, 0, 0, 0.15);\n",
              "      filter: drop-shadow(0px 1px 2px rgba(0, 0, 0, 0.3));\n",
              "      fill: #FFFFFF;\n",
              "    }\n",
              "  </style>\n",
              "\n",
              "      <script>\n",
              "        const buttonEl =\n",
              "          document.querySelector('#df-b9929936-d922-40a0-a45b-5b58236d8400 button.colab-df-convert');\n",
              "        buttonEl.style.display =\n",
              "          google.colab.kernel.accessAllowed ? 'block' : 'none';\n",
              "\n",
              "        async function convertToInteractive(key) {\n",
              "          const element = document.querySelector('#df-b9929936-d922-40a0-a45b-5b58236d8400');\n",
              "          const dataTable =\n",
              "            await google.colab.kernel.invokeFunction('convertToInteractive',\n",
              "                                                     [key], {});\n",
              "          if (!dataTable) return;\n",
              "\n",
              "          const docLinkHtml = 'Like what you see? Visit the ' +\n",
              "            '<a target=\"_blank\" href=https://colab.research.google.com/notebooks/data_table.ipynb>data table notebook</a>'\n",
              "            + ' to learn more about interactive tables.';\n",
              "          element.innerHTML = '';\n",
              "          dataTable['output_type'] = 'display_data';\n",
              "          await google.colab.output.renderOutput(dataTable, element);\n",
              "          const docLink = document.createElement('div');\n",
              "          docLink.innerHTML = docLinkHtml;\n",
              "          element.appendChild(docLink);\n",
              "        }\n",
              "      </script>\n",
              "    </div>\n",
              "  </div>\n",
              "  "
            ]
          },
          "metadata": {},
          "execution_count": 10
        }
      ]
    }
  ]
}